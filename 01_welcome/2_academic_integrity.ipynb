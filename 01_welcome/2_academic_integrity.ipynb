{
 "cells": [
  {
   "cell_type": "markdown",
   "metadata": {
    "toc": true
   },
   "source": [
    "<h1>Table of Contents<span class=\"tocSkip\"></span></h1>\n",
    "<div class=\"toc\"><ul class=\"toc-item\"><li><span><a href=\"#All-homework-code-should-private\" data-toc-modified-id=\"All-homework-code-should-private-1\">All homework code should private</a></span></li><li><span><a href=\"#In-class-work-is-different\" data-toc-modified-id=\"In-class-work-is-different-2\">In-class work is different</a></span></li><li><span><a href=\"#Questions?\" data-toc-modified-id=\"Questions?-3\">Questions?</a></span></li><li><span><a href=\"#Academic-Integrity-Scenarios\" data-toc-modified-id=\"Academic-Integrity-Scenarios-4\">Academic Integrity Scenarios</a></span></li><li><span><a href=\"#Scenario-#1\" data-toc-modified-id=\"Scenario-#1-5\">Scenario #1</a></span><ul class=\"toc-item\"><li><span><a href=\"#Brian's-Guidelines\" data-toc-modified-id=\"Brian's-Guidelines-5.1\">Brian's Guidelines</a></span></li></ul></li><li><span><a href=\"#Scenario-#2\" data-toc-modified-id=\"Scenario-#2-6\">Scenario #2</a></span><ul class=\"toc-item\"><li><span><a href=\"#Brian's-Guidelines\" data-toc-modified-id=\"Brian's-Guidelines-6.1\">Brian's Guidelines</a></span></li></ul></li><li><span><a href=\"#Scenario-#3\" data-toc-modified-id=\"Scenario-#3-7\">Scenario #3</a></span><ul class=\"toc-item\"><li><span><a href=\"#Brian's-Guidelines\" data-toc-modified-id=\"Brian's-Guidelines-7.1\">Brian's Guidelines</a></span></li></ul></li><li><span><a href=\"#Scenario-#4\" data-toc-modified-id=\"Scenario-#4-8\">Scenario #4</a></span><ul class=\"toc-item\"><li><span><a href=\"#Brian's-Guidelines\" data-toc-modified-id=\"Brian's-Guidelines-8.1\">Brian's Guidelines</a></span></li></ul></li><li><span><a href=\"#How-to-use-Stack-Overflow\" data-toc-modified-id=\"How-to-use-Stack-Overflow-9\">How to use Stack Overflow</a></span></li><li><span><a href=\"#How-NOT-to-use--Stack-Overflow\" data-toc-modified-id=\"How-NOT-to-use--Stack-Overflow-10\">How NOT to use  Stack Overflow</a></span></li><li><span><a href=\"#Who-is-Anthony-Levandowski?\" data-toc-modified-id=\"Who-is-Anthony-Levandowski?-11\">Who is Anthony Levandowski?</a></span></li><li><span><a href=\"#Cheating-just-gets-easier\" data-toc-modified-id=\"Cheating-just-gets-easier-12\">Cheating just gets easier</a></span></li><li><span><a href=\"#Questions?\" data-toc-modified-id=\"Questions?-13\">Questions?</a></span></li></ul></div>"
   ]
  },
  {
   "cell_type": "markdown",
   "metadata": {},
   "source": [
    ">  People have independently come up with similar (if not basically identical) solutions.    \n",
    ">  That’s how programming works.   \n",
    "> — Joel Grus"
   ]
  },
  {
   "cell_type": "markdown",
   "metadata": {},
   "source": [
    "You must write all the code you hand-in (except for code given you as part of the assignment). \n",
    "\n",
    "You are not allowed to look at anyone else's code\n",
    "\n",
    "- On the internet\n",
    "- Current students\n",
    "- Previous students\n",
    "\n",
    "You may discuss the assignments with each other, but you may not look at or copy each others' code.\n",
    "\n",
    "\n",
    "------\n",
    "All homework code should private\n",
    "------\n",
    "\n",
    "All homework code for this class has to be private.\n",
    "\n",
    "You are responsible for code privacy. If your code is not private, you are cheating. \n",
    "\n",
    "If you need help making your code private, ask me.\n",
    "\n",
    "----\n",
    "In-class work is different\n",
    "------\n",
    "\n",
    "In class, you will work together on practice problems. These are not graded. \n",
    "\n",
    "All graded code is completely independent work."
   ]
  },
  {
   "cell_type": "markdown",
   "metadata": {
    "slideshow": {
     "slide_type": "slide"
    }
   },
   "source": [
    "<center><h2>Questions?</h2></center> "
   ]
  },
  {
   "cell_type": "markdown",
   "metadata": {
    "slideshow": {
     "slide_type": "slide"
    }
   },
   "source": [
    "Academic Integrity Scenarios\n",
    "------"
   ]
  },
  {
   "cell_type": "markdown",
   "metadata": {
    "slideshow": {
     "slide_type": "slide"
    }
   },
   "source": [
    "Scenario #1\n",
    "------\n",
    "\n",
    "\n",
    "Edgar is in a bind - his programming assignment is due in 45 minutes. \n",
    "\n",
    "His program works, but he hasn’t written any documentation for his code. His friend Fionn has the opposite problem; he’s been documenting as he’s been coding, but his code still has a bug that he can’t find. \n",
    "\n",
    "Edgar and Fionn reach an agreement: Edgar gets Fionn’s documentation, and Fionn gets Edgar’s code. They each integrate their individual work into a single program, and both submit completed programs on time.\n",
    "\n",
    "\n",
    "1. Edgar & Fionn are okay   \n",
    "2. Edgar & Fionn both violated Academic Integrity   \n",
    "3. Edgar only has violated Academic Integrity   \n",
    "4. Fionn only has violated Academic Integrity   "
   ]
  },
  {
   "cell_type": "markdown",
   "metadata": {
    "slideshow": {
     "slide_type": "slide"
    }
   },
   "source": [
    "### Brian's Guidelines\n",
    "\n",
    "There are no gray areas here - both students are in the wrong. \n",
    "\n",
    "Using the work of another as your own is plagiarism, which is prohibited.\n",
    "\n",
    "Had this been a team project, this sort of division of labor would be appropriate."
   ]
  },
  {
   "cell_type": "markdown",
   "metadata": {
    "slideshow": {
     "slide_type": "slide"
    }
   },
   "source": [
    "Scenario #2\n",
    "------\n",
    "\n",
    "Alice has completed her assignment. Bob has a bug that he can't resolve.\n",
    "\n",
    "Alice should …\n",
    "\n",
    "1. Ignore Bob.   \n",
    "2. Be Bob's [rubber duck](https://en.wikipedia.org/wiki/Rubber_duck_debugging).   \n",
    "3. After Bob explains the error message in his own words, provide resources and clues to help Bob discover the root cause of the bug.   \n",
    "4. Bob send Alice his code and she rewrites his solution. She explains it as she types.   "
   ]
  },
  {
   "cell_type": "markdown",
   "metadata": {
    "slideshow": {
     "slide_type": "slide"
    }
   },
   "source": [
    "### Brian's Guidelines\n",
    "\n",
    "Alice can ignore Bob. She has her own work to do. Bob's problems are Bob's problems.\n",
    "\n",
    "Alice can lead an ear. Often times externalizing a problem will jump start a solution.\n",
    "\n",
    "Alice can be true friend and teach Bob something by pointing him the general direction. I permit “high-level” help between students. "
   ]
  },
  {
   "cell_type": "markdown",
   "metadata": {
    "slideshow": {
     "slide_type": "slide"
    }
   },
   "source": [
    "Alice __should not__ grab Bob's computer and rewrite his solution. \n",
    "\n",
    "Alice __should not__ show Bob her working solution."
   ]
  },
  {
   "cell_type": "markdown",
   "metadata": {
    "slideshow": {
     "slide_type": "slide"
    }
   },
   "source": [
    "Scenario #3\n",
    "------\n",
    "\n",
    "\n",
    "Nishat is super excited about the MSDS program. She went online and found public repos posted by the professor. The repos contained problems. She worked with her friends on the problems before class began. \n",
    "\n",
    "What should Nishat do?\n",
    "\n",
    "Go to participants menu in Zoom and vote:\n",
    "\n",
    "1. Just turn in the work she has already done.  \n",
    "2. Ask the professor what to do.   \n",
    "3. Drop out of the program. There is no hope since the entire program is ruined."
   ]
  },
  {
   "cell_type": "markdown",
   "metadata": {
    "slideshow": {
     "slide_type": "slide"
    }
   },
   "source": [
    "### Brian's Guidelines\n",
    "\n",
    "Nishat should ask the professor what is appropriate for the current context. Every professor is different. Every class is different. \n",
    "\n",
    "In the current class, she should just redo the assignment from memory. The current course is about your individual work. Whatever you remember is fair game. Stop looking at other people's homework starting now."
   ]
  },
  {
   "cell_type": "markdown",
   "metadata": {
    "slideshow": {
     "slide_type": "slide"
    }
   },
   "source": [
    "Scenario #4\n",
    "------\n",
    "\n",
    "Viveck is stuck, his program never stops looping.\n",
    "\n",
    "Viveck should…\n",
    "\n",
    "1. Talk a walk.   \n",
    "2. Ask Brian for help on Slack.   \n",
    "3. Google the answer. Once he finds the solution, copy n' paste it in and change the name of the variables.   \n",
    "4. Look through the course materials to find hints.   "
   ]
  },
  {
   "cell_type": "markdown",
   "metadata": {
    "slideshow": {
     "slide_type": "slide"
    }
   },
   "source": [
    "### Brian's Guidelines\n",
    "\n",
    "Talking a walk is always a good idea.\n",
    "\n",
    "Asking Brian is always a good idea.\n",
    "\n",
    "Passing off work from the Internet as your own is a terrible idea. __Do not__ do this ever - in any class or on the job.\n",
    "\n",
    "The course materials and Python documentation should be your primary sources of information."
   ]
  },
  {
   "cell_type": "markdown",
   "metadata": {},
   "source": [
    "How to use Stack Overflow\n",
    "-----\n",
    "\n",
    "1. Answer conceptual questions.\n",
    "1. Find better answers, integrate with your personal answer.\n",
    "2. Find tricky bits of code to help solve specific problems.\n",
    "\n",
    "\n",
    "How NOT to use  Stack Overflow\n",
    "------\n",
    "\n",
    "- Directly answering homework. This is academically dishonest and short cuts learning.\n",
    "- Looking at the same answer many times. If you look at the same answer more than 2 times, it is a crutch. You should to memorize it.\n"
   ]
  },
  {
   "cell_type": "markdown",
   "metadata": {},
   "source": [
    "Who is Anthony Levandowski?\n",
    "-----\n",
    "\n",
    "<center><img src=\"https://cdn.vox-cdn.com/thumbor/x1-sBBMqA1DCI1cheYrmF0yYNi0=/0x0:5317x3566/920x613/filters:focal(977x291:1827x1141):format(webp)/cdn.vox-cdn.com/uploads/chorus_image/image/67156985/605519778.jpg.0.jpg\" width=\"75%\"/></center>\n",
    "\n",
    "> Controversial engineer Anthony Levandowski, who worked for the Google division that would become Waymo before founding trucking company Otto and selling it to Uber, has been sentenced to 18 months in prison for trade secret theft during his various stints in the self-driving industry.\n",
    "\n",
    "[Learn more](https://www.theverge.com/2020/8/4/21354906/anthony-levandowski-waymo-uber-lawsuit-sentence-18-months-prison-lawsuit)"
   ]
  },
  {
   "cell_type": "markdown",
   "metadata": {},
   "source": [
    "Cheating just gets easier\n",
    "------\n",
    "\n",
    "I suggest have clear rules and follow them perfectly. \n",
    "\n",
    "The first time cross the cheating boundary is the most difficult. It becomes easier and easier to cheat over time."
   ]
  },
  {
   "cell_type": "markdown",
   "metadata": {
    "slideshow": {
     "slide_type": "slide"
    }
   },
   "source": [
    "<center><h2>Questions?</h2></center> "
   ]
  },
  {
   "cell_type": "markdown",
   "metadata": {
    "slideshow": {
     "slide_type": "slide"
    }
   },
   "source": [
    "<br>\n",
    "<br> \n",
    "<br>\n",
    "\n",
    "----"
   ]
  }
 ],
 "metadata": {
  "celltoolbar": "Raw Cell Format",
  "kernelspec": {
   "display_name": "Python 3",
   "language": "python",
   "name": "python3"
  },
  "language_info": {
   "codemirror_mode": {
    "name": "ipython",
    "version": 3
   },
   "file_extension": ".py",
   "mimetype": "text/x-python",
   "name": "python",
   "nbconvert_exporter": "python",
   "pygments_lexer": "ipython3",
   "version": "3.8.3"
  },
  "toc": {
   "base_numbering": 1,
   "nav_menu": {},
   "number_sections": false,
   "sideBar": false,
   "skip_h1_title": false,
   "title_cell": "Table of Contents",
   "title_sidebar": "Contents",
   "toc_cell": true,
   "toc_position": {},
   "toc_section_display": true,
   "toc_window_display": false
  }
 },
 "nbformat": 4,
 "nbformat_minor": 4
}
