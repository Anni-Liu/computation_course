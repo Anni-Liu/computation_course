{
 "cells": [
  {
   "cell_type": "markdown",
   "metadata": {
    "slideshow": {
     "slide_type": "skip"
    },
    "toc": true
   },
   "source": [
    "<h1>Table of Contents<span class=\"tocSkip\"></span></h1>\n",
    "<div class=\"toc\"><ul class=\"toc-item\"><li><span><a href=\"#Welcome-to-Computational-for-Analytics!\" data-toc-modified-id=\"Welcome-to-Computational-for-Analytics!-1\">Welcome to Computational for Analytics!</a></span></li><li><span><a href=\"#Who-am-I?\" data-toc-modified-id=\"Who-am-I?-2\">Who am I?</a></span></li><li><span><a href=\"#Lambda-λ-🐶\" data-toc-modified-id=\"Lambda-λ-🐶-3\">Lambda λ 🐶</a></span></li><li><span><a href=\"#What-is-Data-Science-/-Who-is-a-Data-Scientist?\" data-toc-modified-id=\"What-is-Data-Science-/-Who-is-a-Data-Scientist?-4\">What is Data Science / Who is a Data Scientist?</a></span></li><li><span><a href=\"#Survival-Tips-for-MSDS-&amp;-a-career-in-Data-Science-\" data-toc-modified-id=\"Survival-Tips-for-MSDS-&amp;-a-career-in-Data-Science--5\">Survival Tips for MSDS &amp; a career in Data Science </a></span></li><li><span><a href=\"#The-MSDS-program-is-like-surfing\" data-toc-modified-id=\"The-MSDS-program-is-like-surfing-6\">The MSDS program is like surfing</a></span></li><li><span><a href=\"#Triage-your-knowledge\" data-toc-modified-id=\"Triage-your-knowledge-7\">Triage your knowledge</a></span></li><li><span><a href=\"#Straight-talk-about-depression-and-anxiety\" data-toc-modified-id=\"Straight-talk-about-depression-and-anxiety-8\"><a href=\"https://www.cs.cmu.edu/~roni/10601/Stress.html\" target=\"_blank\">Straight talk about depression and anxiety</a></a></span></li><li><span><a href=\"#The-program-(and-life)-is-long,-take-care-of-yourself\" data-toc-modified-id=\"The-program-(and-life)-is-long,-take-care-of-yourself-9\">The program (and life) is long, take care of yourself</a></span></li><li><span><a href=\"#How-This-Course-Will-Work\" data-toc-modified-id=\"How-This-Course-Will-Work-10\">How This Course Will Work</a></span></li><li><span><a href=\"#Questions?\" data-toc-modified-id=\"Questions?-11\">Questions?</a></span></li></ul></div>"
   ]
  },
  {
   "cell_type": "markdown",
   "metadata": {
    "slideshow": {
     "slide_type": "slide"
    }
   },
   "source": [
    "<center><h2>Welcome to Computational for Analytics!</h2></center>\n",
    "\n",
    "<center><img src=\"../images/data_scientist_should.png\" width=\"90%\"/></center>"
   ]
  },
  {
   "cell_type": "markdown",
   "metadata": {
    "slideshow": {
     "slide_type": "slide"
    }
   },
   "source": [
    " <center><h2>Who am I?</h2></center>\n",
    " \n",
    " <center><img src=\"../images/me.png\" width=\"65%\"/></center>"
   ]
  },
  {
   "cell_type": "markdown",
   "metadata": {
    "slideshow": {
     "slide_type": "slide"
    }
   },
   "source": [
    "<center><h2>Lambda λ 🐶</h2></center>\n",
    "\n",
    "<center><img src=\"../images/lambda_in_a_field.jpg\" width=\"85%\"/></center> "
   ]
  },
  {
   "cell_type": "markdown",
   "metadata": {
    "slideshow": {
     "slide_type": "skip"
    }
   },
   "source": [
    "- What I do at University of San Francisco Master of Science in Data Science (MSDS) \n",
    "- My programming background"
   ]
  },
  {
   "cell_type": "markdown",
   "metadata": {
    "slideshow": {
     "slide_type": "slide"
    }
   },
   "source": [
    "<center><h2>What is Data Science / Who is a Data Scientist?</h2></center>"
   ]
  },
  {
   "cell_type": "markdown",
   "metadata": {
    "slideshow": {
     "slide_type": "fragment"
    }
   },
   "source": [
    "<center><img src=\"../images/willis.png\" width=\"75%\"/></center>"
   ]
  },
  {
   "cell_type": "markdown",
   "metadata": {
    "slideshow": {
     "slide_type": "skip"
    }
   },
   "source": [
    "[Source](https://twitter.com/josh_wills/status/198093512149958656)\n",
    "\n",
    "[Read more here](https://community.ibm.com/community/user/datascience/blogs/paco-nathan/2019/03/04/what-is-data-science)"
   ]
  },
  {
   "cell_type": "markdown",
   "metadata": {
    "slideshow": {
     "slide_type": "slide"
    }
   },
   "source": [
    "<center><h2>Survival Tips for MSDS & a career in Data Science </h2></center>"
   ]
  },
  {
   "cell_type": "markdown",
   "metadata": {
    "slideshow": {
     "slide_type": "skip"
    }
   },
   "source": [
    "<center><h2>The MSDS program is like surfing</h2></center>"
   ]
  },
  {
   "cell_type": "markdown",
   "metadata": {
    "slideshow": {
     "slide_type": "slide"
    }
   },
   "source": [
    "<center><img src=\"../images/surfing.jpg\" width=\"100%\"/></center>"
   ]
  },
  {
   "cell_type": "markdown",
   "metadata": {
    "slideshow": {
     "slide_type": "skip"
    }
   },
   "source": [
    "[Source](https://cdn.citylab.com/media/img/citylab/2018/05/RTR4IA63/facebook.jpg?1527265490)"
   ]
  },
  {
   "cell_type": "markdown",
   "metadata": {
    "slideshow": {
     "slide_type": "slide"
    }
   },
   "source": [
    "<center><img src=\"../images/done-is-better-than-perfect.png\" width=\"50%\"/></center>"
   ]
  },
  {
   "cell_type": "markdown",
   "metadata": {
    "slideshow": {
     "slide_type": "skip"
    }
   },
   "source": [
    "Velocity matters!"
   ]
  },
  {
   "cell_type": "markdown",
   "metadata": {
    "slideshow": {
     "slide_type": "slide"
    }
   },
   "source": [
    "<center><big><big>There is always too much to do for the amount of time.</big></big></center>"
   ]
  },
  {
   "cell_type": "markdown",
   "metadata": {
    "slideshow": {
     "slide_type": "fragment"
    }
   },
   "source": [
    "<center><big><big>There is always more to learn, both in depth and breadth<br><br><br></big></big></center>"
   ]
  },
  {
   "cell_type": "markdown",
   "metadata": {
    "slideshow": {
     "slide_type": "slide"
    }
   },
   "source": [
    "<center><h2>Triage your knowledge</h2></center>\n",
    "<br>\n",
    "<br>\n",
    "\n"
   ]
  },
  {
   "cell_type": "markdown",
   "metadata": {
    "slideshow": {
     "slide_type": "fragment"
    }
   },
   "source": [
    "1) Things I should memorize such that I can recall them fluently."
   ]
  },
  {
   "cell_type": "markdown",
   "metadata": {
    "slideshow": {
     "slide_type": "fragment"
    }
   },
   "source": [
    "2) Things I should know about so I can look them up more quickly later.\n"
   ]
  },
  {
   "cell_type": "markdown",
   "metadata": {
    "slideshow": {
     "slide_type": "fragment"
    }
   },
   "source": [
    "3) Things I shouldn’t bother with at all until I actually need them.                            "
   ]
  },
  {
   "cell_type": "markdown",
   "metadata": {
    "slideshow": {
     "slide_type": "skip"
    }
   },
   "source": [
    "[Source](https://treyhunner.com/2019/05/python-builtins-worth-learning/) "
   ]
  },
  {
   "cell_type": "markdown",
   "metadata": {
    "slideshow": {
     "slide_type": "slide"
    }
   },
   "source": [
    "<center><big><big>I make assumptions and use technical jargon. <br><br><br>If I say something that is confusing, please stop me and ask me to explain.</big></big></center>"
   ]
  },
  {
   "cell_type": "markdown",
   "metadata": {
    "slideshow": {
     "slide_type": "slide"
    }
   },
   "source": [
    "<center><img src=\"../images/slide_17.jpg\" width=\"100%\"/></center>"
   ]
  },
  {
   "cell_type": "markdown",
   "metadata": {
    "slideshow": {
     "slide_type": "skip"
    }
   },
   "source": [
    "[Source](https://blogs.akamai.com/2013/10/you-must-try-and-then-you-must-ask.html)"
   ]
  },
  {
   "cell_type": "markdown",
   "metadata": {
    "slideshow": {
     "slide_type": "slide"
    }
   },
   "source": [
    "<center><h2><a href=\"https://www.cs.cmu.edu/~roni/10601/Stress.html\">Straight talk about depression and anxiety</a></h2></center>"
   ]
  },
  {
   "cell_type": "markdown",
   "metadata": {
    "slideshow": {
     "slide_type": "slide"
    }
   },
   "source": [
    "<center><h2>The program (and life) is long, take care of yourself</h2></center>\n",
    "<br>\n",
    "<center><img src=\"../images/Pie-Chart.png\" width=\"55%\"/></center>"
   ]
  },
  {
   "cell_type": "markdown",
   "metadata": {
    "slideshow": {
     "slide_type": "skip"
    }
   },
   "source": [
    "- There is always too much to do for the amount of time. There is always more learn (both in breadth and depth).\n",
    "- Good enough is good enough. You might not understand everything, that is okay.\n",
    "- You must try; You must ask.\n",
    "- Triage your knowledge. \n",
    "- Takes breaks. Find what recharges you and schedule it."
   ]
  },
  {
   "cell_type": "markdown",
   "metadata": {
    "slideshow": {
     "slide_type": "slide"
    }
   },
   "source": [
    "<center><h2>How This Course Will Work</h2></center>\n",
    "\n",
    "1. Before class:\n",
    "    - Watch ~1 hour video before each class. See links on GitHub.\n",
    "    - While watching the videos, complete the prework check on Canvas.\n",
    "1. During class:\n",
    "    - I'll talk for 5-10 minutes.\n",
    "    - Y'all will ask questions.\n",
    "    - Y'all work will work on problems (group) for 10-25 minutes.\n",
    "    - We'll discuss the best solutions for 15-20 minutes.\n",
    "1. After class:\n",
    "    - Work on homework (independent).\n",
    "    - Ask questions in Slack."
   ]
  },
  {
   "cell_type": "markdown",
   "metadata": {
    "slideshow": {
     "slide_type": "slide"
    }
   },
   "source": [
    "<center><h2>Questions?</h2></center>"
   ]
  },
  {
   "cell_type": "markdown",
   "metadata": {
    "slideshow": {
     "slide_type": "slide"
    }
   },
   "source": [
    "<br>\n",
    "<br> \n",
    "<br>"
   ]
  }
 ],
 "metadata": {
  "celltoolbar": "Slideshow",
  "kernelspec": {
   "display_name": "Python 3",
   "language": "python",
   "name": "python3"
  },
  "language_info": {
   "codemirror_mode": {
    "name": "ipython",
    "version": 3
   },
   "file_extension": ".py",
   "mimetype": "text/x-python",
   "name": "python",
   "nbconvert_exporter": "python",
   "pygments_lexer": "ipython3",
   "version": "3.8.3"
  },
  "toc": {
   "base_numbering": 1,
   "nav_menu": {},
   "number_sections": false,
   "sideBar": false,
   "skip_h1_title": false,
   "title_cell": "Table of Contents",
   "title_sidebar": "Contents",
   "toc_cell": true,
   "toc_position": {},
   "toc_section_display": true,
   "toc_window_display": false
  }
 },
 "nbformat": 4,
 "nbformat_minor": 4
}
