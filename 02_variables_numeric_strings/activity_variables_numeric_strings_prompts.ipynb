{
 "cells": [
  {
   "cell_type": "markdown",
   "metadata": {
    "toc": true
   },
   "source": [
    "<h1>Table of Contents<span class=\"tocSkip\"></span></h1>\n",
    "<div class=\"toc\"><ul class=\"toc-item\"><li><span><a href=\"#Instructions\" data-toc-modified-id=\"Instructions-1\">Instructions</a></span></li><li><span><a href=\"#Variable-Problems\" data-toc-modified-id=\"Variable-Problems-2\">Variable Problems</a></span></li><li><span><a href=\"#Numeric-Problems\" data-toc-modified-id=\"Numeric-Problems-3\">Numeric Problems</a></span></li><li><span><a href=\"#String-Problems\" data-toc-modified-id=\"String-Problems-4\">String Problems</a></span></li><li><span><a href=\"#Testing-Problems\" data-toc-modified-id=\"Testing-Problems-5\">Testing Problems</a></span></li></ul></div>"
   ]
  },
  {
   "cell_type": "markdown",
   "metadata": {},
   "source": [
    "Instructions\n",
    "--------\n",
    "\n",
    "- __First thing__ - Change the name of this file to avoid merge conflicts with GitHub.\n",
    "- You should type every character for the following activities. You learn almost nothing by copy n' pasting. The exceptions are specific characters that might be difficult to find on some keyboards (e.g., 안녕하세요, ☆, `( ͡° ͜ʖ ͡°)`, 🧙‍♂️ )\n",
    "- Work together with your peers in the same shared code environment. Suggested code environment:\n",
    "    - [repl.it](https://repl.it/)\n",
    "    - [Google Colab](https://colab.research.google.com)\n",
    "    - [Deepnote](https://deepnote.com/)\n",
    "- These activities are not graded.\n",
    "- They are open recourse - feel free to reference documentation, books, videos, and any other resource.\n",
    "- Attempt each problem. If stuck, move onto next one and come back to a difficult problem.\n",
    "- During class:\n",
    "    - Brian will bounce between breakout rooms. Feel free to ask questions or just ignore him.\n",
    "    - After your group has finished, leave your breakout room and return to the main room."
   ]
  },
  {
   "cell_type": "code",
   "execution_count": 1,
   "metadata": {},
   "outputs": [],
   "source": [
    "reset -fs"
   ]
  },
  {
   "cell_type": "markdown",
   "metadata": {},
   "source": [
    "Note about `reset -fs` - It clears the current state of a Jupyter Notebook. Jupyter Notebook can have hidden state, especially when cells are run out of order. It is best practice to frequently clear the state  and run all cells from top-to-bottom."
   ]
  },
  {
   "cell_type": "markdown",
   "metadata": {},
   "source": [
    "Variable Problems\n",
    "----\n",
    "\n",
    "\n"
   ]
  },
  {
   "cell_type": "markdown",
   "metadata": {},
   "source": [
    "Find out if each of the following as either acceptable or not Python identifier. Do this by trying to assign them as an identifier for a variable. If you get a `SyntaxError: can't assign to operator`, fix the error by changing the identifier.\n",
    "\n",
    "- biyu\n",
    "- sumTotal \n",
    "- sumtotal\n",
    "- sum-total \n",
    "- sum total\n",
    "- sum_total\n",
    "- sum\n",
    "- 2x\n",
    "- -4\n",
    "- $16\n",
    "- 10%\n",
    "- if\n",
    "- while \n",
    "- Private \n",
    "- public\n",
    "- _static \n",
    "- _4\n",
    "- \\_\\_\\_ \n",
    "- maçã_da_beira_alta\n",
    "- ಠ_ಠ\n",
    "- λ\n",
    "- 🐶"
   ]
  },
  {
   "cell_type": "code",
   "execution_count": null,
   "metadata": {},
   "outputs": [],
   "source": []
  },
  {
   "cell_type": "markdown",
   "metadata": {},
   "source": [
    "What happens when you run:\n",
    "\n",
    "```python\n",
    "x = if\n",
    "\n",
    "type(if)\n",
    "```"
   ]
  },
  {
   "cell_type": "code",
   "execution_count": null,
   "metadata": {},
   "outputs": [],
   "source": []
  },
  {
   "cell_type": "markdown",
   "metadata": {},
   "source": [
    "Numeric Problems\n",
    "-----"
   ]
  },
  {
   "cell_type": "markdown",
   "metadata": {},
   "source": [
    "If `a = 0`, what is the type of `a`?\n",
    "\n",
    "If `b = 0.`, what is the type of `b`?"
   ]
  },
  {
   "cell_type": "code",
   "execution_count": null,
   "metadata": {},
   "outputs": [],
   "source": []
  },
  {
   "cell_type": "markdown",
   "metadata": {},
   "source": [
    "Add parentheses to make the following expression equal the value in the comments\n",
    "\n",
    "`28 - 7 * 2 #=> 42`\n",
    "\n",
    "`2 ** 3 ** 2 #=> 64`\n",
    "\n",
    "`5 * 2 // 3 #=> 0`\n"
   ]
  },
  {
   "cell_type": "code",
   "execution_count": null,
   "metadata": {},
   "outputs": [],
   "source": []
  },
  {
   "cell_type": "markdown",
   "metadata": {},
   "source": [
    "String Problems\n",
    "------"
   ]
  },
  {
   "cell_type": "markdown",
   "metadata": {},
   "source": [
    "Fix the following:\n",
    "\n",
    "`print('O'Reilly's Online Learning Platform is awesome')`\n",
    "\n"
   ]
  },
  {
   "cell_type": "code",
   "execution_count": null,
   "metadata": {},
   "outputs": [],
   "source": []
  },
  {
   "cell_type": "markdown",
   "metadata": {},
   "source": [
    "Use a triple quoted string to make this design:\n",
    "\n",
    "```\n",
    "  *\n",
    " *** \n",
    "*****  \n",
    " ***  \n",
    "  *\n",
    "  *\n",
    "  *\n",
    "```\n",
    "\n",
    "For more of a challenge, try to have no extra line breaks at the beginning and at the end."
   ]
  },
  {
   "cell_type": "code",
   "execution_count": null,
   "metadata": {},
   "outputs": [],
   "source": []
  },
  {
   "cell_type": "markdown",
   "metadata": {},
   "source": [
    "Use a double quoted string and escape characters to print the following with the __exactly__ same formatting (do not use a triple quoted string).\n",
    "\n",
    "```text\n",
    "But not only that:\n",
    "\n",
    "\tLet freedom ring from Stone Mountain of Georgia.\n",
    "\n",
    "\tLet freedom ring from Lookout Mountain of Tennessee.\n",
    "\n",
    "    Let freedom ring from every hill and molehill of Mississippi.\n",
    "\n",
    "    From every mountainside, let freedom ring.\n",
    "```\n",
    "\n",
    "from [Martin Luther King, Jr. I have a dream speech](https://www.americanrhetoric.com/speeches/mlkihaveadream.htm)"
   ]
  },
  {
   "cell_type": "code",
   "execution_count": null,
   "metadata": {},
   "outputs": [],
   "source": []
  },
  {
   "cell_type": "markdown",
   "metadata": {},
   "source": [
    "Testing Problems\n",
    "-------"
   ]
  },
  {
   "cell_type": "markdown",
   "metadata": {},
   "source": [
    "Get the following tests to pass. \n",
    "\n",
    "__DO NOT CHANGE THE TESTS! NEVER CHANGE TESTS!__\n",
    "\n",
    "\n",
    "```python\n",
    "# Test value\n",
    "meaning_of_life = None\n",
    "assert meaning_of_life == 42\n",
    "\n",
    "\n",
    "# Test type\n",
    "num = 8\n",
    "assert type(num) == float\n",
    "\n",
    "\n",
    "# Test return value of function\n",
    "def return_hi():\n",
    "    return \"\"\n",
    "\n",
    "assert return_hi() == \"hi\"\n",
    "\n",
    "```"
   ]
  },
  {
   "cell_type": "code",
   "execution_count": null,
   "metadata": {},
   "outputs": [],
   "source": []
  },
  {
   "cell_type": "markdown",
   "metadata": {},
   "source": [
    "<br>\n",
    "<br> \n",
    "<br>\n",
    "\n",
    "----"
   ]
  }
 ],
 "metadata": {
  "kernelspec": {
   "display_name": "Python 3",
   "language": "python",
   "name": "python3"
  },
  "language_info": {
   "codemirror_mode": {
    "name": "ipython",
    "version": 3
   },
   "file_extension": ".py",
   "mimetype": "text/x-python",
   "name": "python",
   "nbconvert_exporter": "python",
   "pygments_lexer": "ipython3",
   "version": "3.8.3"
  },
  "toc": {
   "base_numbering": 1,
   "nav_menu": {},
   "number_sections": false,
   "sideBar": false,
   "skip_h1_title": false,
   "title_cell": "Table of Contents",
   "title_sidebar": "Contents",
   "toc_cell": true,
   "toc_position": {},
   "toc_section_display": true,
   "toc_window_display": false
  }
 },
 "nbformat": 4,
 "nbformat_minor": 4
}
