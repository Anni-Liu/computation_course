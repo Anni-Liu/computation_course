{
 "cells": [
  {
   "cell_type": "markdown",
   "metadata": {
    "toc": true
   },
   "source": [
    "<h1>Table of Contents<span class=\"tocSkip\"></span></h1>\n",
    "<div class=\"toc\"><ul class=\"toc-item\"><li><span><a href=\"#Setup\" data-toc-modified-id=\"Setup-1\">Setup</a></span></li><li><span><a href=\"#Setup-env-on-your-local-computer\" data-toc-modified-id=\"Setup-env-on-your-local-computer-2\">Setup env on your local computer</a></span></li></ul></div>"
   ]
  },
  {
   "cell_type": "markdown",
   "metadata": {},
   "source": [
    "<center><h2>Setup</h2></center>\n",
    "\n",
    "\n",
    "<center><img src=\"https://imgs.xkcd.com/comics/python_environment.png\" width=\"45%\"/></center>"
   ]
  },
  {
   "cell_type": "code",
   "execution_count": 1,
   "metadata": {},
   "outputs": [],
   "source": [
    "import sys\n",
    "\n",
    "# Make sure the correct environment was started\n",
    "assert sys.base_prefix.endswith(\"py38\")"
   ]
  },
  {
   "cell_type": "code",
   "execution_count": 2,
   "metadata": {},
   "outputs": [],
   "source": [
    "from platform import python_version\n",
    "\n",
    "# Make sure we are using Python 3.8 \n",
    "assert python_version().startswith('3.8')"
   ]
  },
  {
   "cell_type": "code",
   "execution_count": 3,
   "metadata": {},
   "outputs": [],
   "source": [
    "# Make sure a couple of third packages are present\n",
    "try:\n",
    "    import numpy as np\n",
    "    import fuzzywuzzy\n",
    "    import pytest\n",
    "    from pygooglenews import GoogleNews\n",
    "    import PIL\n",
    "    import jupyter_tabnine\n",
    "except ModuleNotFoundError:\n",
    "    print(\"Ask for help ✋\")"
   ]
  },
  {
   "cell_type": "code",
   "execution_count": 4,
   "metadata": {},
   "outputs": [],
   "source": [
    "# Make sure a couple of third packages are the correct version\n",
    "assert np.__version__.startswith(\"1.18.\")\n",
    "assert pytest.__version__.startswith(\"5.4.\")"
   ]
  },
  {
   "cell_type": "code",
   "execution_count": 6,
   "metadata": {},
   "outputs": [
    {
     "name": "stdout",
     "output_type": "stream",
     "text": [
      "You successfully setup your Python environment 🎉\n",
      "\n",
      "That is one of the most challenging parts of learning Python 🐍\n",
      "\n"
     ]
    }
   ],
   "source": [
    "print(\"\"\"\\\n",
    "You successfully setup your Python environment 🎉\n",
    "\n",
    "That is one of the most challenging parts of learning Python 🐍\n",
    "\"\"\")"
   ]
  },
  {
   "cell_type": "markdown",
   "metadata": {},
   "source": [
    "If something is broken…\n",
    "------\n",
    "\n",
    "Follow the standard debugging advice:\n",
    "\n",
    "1. Stop - Don't start randomly changing things!    \n",
    "1. Think - Ask yourself, what could be going wrong?\n",
    "1. Pair - Ask someone still nearby, what could be going wrong?\n",
    "1. Share - Tell Brian what you have tried and what your current hypothesis is. He'll help assist you to solve it."
   ]
  },
  {
   "cell_type": "markdown",
   "metadata": {},
   "source": [
    "<br>\n",
    "<br> \n",
    "<br>\n",
    "\n",
    "----"
   ]
  }
 ],
 "metadata": {
  "anaconda-cloud": {},
  "kernelspec": {
   "display_name": "Python 3",
   "language": "python",
   "name": "python3"
  },
  "language_info": {
   "codemirror_mode": {
    "name": "ipython",
    "version": 3
   },
   "file_extension": ".py",
   "mimetype": "text/x-python",
   "name": "python",
   "nbconvert_exporter": "python",
   "pygments_lexer": "ipython3",
   "version": "3.8.3"
  },
  "toc": {
   "base_numbering": 1,
   "nav_menu": {},
   "number_sections": false,
   "sideBar": false,
   "skip_h1_title": false,
   "title_cell": "Table of Contents",
   "title_sidebar": "Contents",
   "toc_cell": true,
   "toc_position": {},
   "toc_section_display": true,
   "toc_window_display": false
  }
 },
 "nbformat": 4,
 "nbformat_minor": 4
}
